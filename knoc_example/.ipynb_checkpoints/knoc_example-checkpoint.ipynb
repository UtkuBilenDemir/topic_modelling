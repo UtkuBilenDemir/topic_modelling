{
 "cells": [
  {
   "cell_type": "code",
   "execution_count": 1,
   "metadata": {},
   "outputs": [],
   "source": [
    "import pandas as pd\n",
    "import pickle"
   ]
  },
  {
   "cell_type": "code",
   "execution_count": 2,
   "metadata": {},
   "outputs": [
    {
     "data": {
      "text/html": [
       "<div>\n",
       "<style scoped>\n",
       "    .dataframe tbody tr th:only-of-type {\n",
       "        vertical-align: middle;\n",
       "    }\n",
       "\n",
       "    .dataframe tbody tr th {\n",
       "        vertical-align: top;\n",
       "    }\n",
       "\n",
       "    .dataframe thead th {\n",
       "        text-align: right;\n",
       "    }\n",
       "</style>\n",
       "<table border=\"1\" class=\"dataframe\">\n",
       "  <thead>\n",
       "    <tr style=\"text-align: right;\">\n",
       "      <th></th>\n",
       "      <th>AU</th>\n",
       "      <th>DE</th>\n",
       "      <th>ID</th>\n",
       "      <th>C1</th>\n",
       "      <th>CR</th>\n",
       "      <th>AB</th>\n",
       "      <th>PA</th>\n",
       "      <th>AR</th>\n",
       "      <th>EM</th>\n",
       "      <th>da</th>\n",
       "      <th>...</th>\n",
       "      <th>VL</th>\n",
       "      <th>web.of.science.categories.</th>\n",
       "      <th>PY</th>\n",
       "      <th>RP</th>\n",
       "      <th>DB</th>\n",
       "      <th>AU_UN</th>\n",
       "      <th>AU1_UN</th>\n",
       "      <th>AU_UN_NR</th>\n",
       "      <th>SR_FULL</th>\n",
       "      <th>SR</th>\n",
       "    </tr>\n",
       "  </thead>\n",
       "  <tbody>\n",
       "    <tr>\n",
       "      <th>0</th>\n",
       "      <td>YU Q;WANG Y;GAO J;GAO S;FLEMMING B</td>\n",
       "      <td>ESTUARINE TURBIDITY MAXIMUM; WELL-MIXED ESTUAR...</td>\n",
       "      <td>SUSPENDED SEDIMENT TRANSPORT; YALU RIVER ESTUA...</td>\n",
       "      <td>YU, Q (CORRESPONDING AUTHOR), NANJING UNIV, MO...</td>\n",
       "      <td>ALLEN GP, 1980, SEDIMENT GEOL, V26, P69, DOI 1...</td>\n",
       "      <td>TRADITIONALLY, VERTICAL CIRCULATION (INDUCED B...</td>\n",
       "      <td>2000 FLORIDA AVE NW, WASHINGTON, DC 20009 USA</td>\n",
       "      <td>NaN</td>\n",
       "      <td>QIANYU.NJU@GMAIL.COM</td>\n",
       "      <td>2020-07-09</td>\n",
       "      <td>...</td>\n",
       "      <td>119</td>\n",
       "      <td>OCEANOGRAPHY</td>\n",
       "      <td>2014.0</td>\n",
       "      <td>YU, Q (CORRESPONDING AUTHOR), NANJING UNIV, MO...</td>\n",
       "      <td>ISI</td>\n",
       "      <td>NANJING UNIV;NANJING UNIV;DELFT UNIV TECHNOL;S...</td>\n",
       "      <td>NANJING UNIV</td>\n",
       "      <td>NaN</td>\n",
       "      <td>YU Q, 2014, J GEOPHYS RES -OCEANS</td>\n",
       "      <td>YU Q, 2014, J GEOPHYS RES -OCEANS</td>\n",
       "    </tr>\n",
       "    <tr>\n",
       "      <th>1</th>\n",
       "      <td>BOYNARD A;CLERBAUX C;CLARISSE L;SAFIEDDINE S;P...</td>\n",
       "      <td>WINTER AIR POLLUTION; IASI; SATELLITE REMOTE S...</td>\n",
       "      <td>SULFUR-DIOXIDE; RETRIEVAL; EMISSIONS; AMMONIA;...</td>\n",
       "      <td>BOYNARD, A (CORRESPONDING AUTHOR), UNIV VERSAI...</td>\n",
       "      <td>BAUDUIN S., 2013, 3 IASI C EUMETSAT CN; BERRIS...</td>\n",
       "      <td>IN THIS PAPER WE INVESTIGATE A SEVERE POLLUTIO...</td>\n",
       "      <td>2000 FLORIDA AVE NW, WASHINGTON, DC 20009 USA</td>\n",
       "      <td>NaN</td>\n",
       "      <td>ANNE.BOYNARD@LATMOS.IPSL.FR</td>\n",
       "      <td>2020-07-09</td>\n",
       "      <td>...</td>\n",
       "      <td>41</td>\n",
       "      <td>GEOSCIENCES, MULTIDISCIPLINARY</td>\n",
       "      <td>2014.0</td>\n",
       "      <td>BOYNARD, A (CORRESPONDING AUTHOR), UNIV VERSAI...</td>\n",
       "      <td>ISI</td>\n",
       "      <td>UNIV VERSAILLES ST QUENTIN;UNIV VERSAILLES ST ...</td>\n",
       "      <td>UNIV VERSAILLES ST QUENTIN</td>\n",
       "      <td>NaN</td>\n",
       "      <td>BOYNARD A, 2014, GEOPHYS RES LETT</td>\n",
       "      <td>BOYNARD A, 2014, GEOPHYS RES LETT</td>\n",
       "    </tr>\n",
       "    <tr>\n",
       "      <th>2</th>\n",
       "      <td>WANG Z;MA Y;QIN Z;YE Q;XU Z;HAN L;JIA P;XU F</td>\n",
       "      <td>NaN</td>\n",
       "      <td>BUILT ENVIRONMENT; NEIGHBORHOOD ENVIRONMENT; D...</td>\n",
       "      <td>JIA, P (CORRESPONDING AUTHOR), UNIV TWENTE, FA...</td>\n",
       "      <td>[ANONYMOUS], 2016, NAT HLTH HYG C AUG 2; BENNE...</td>\n",
       "      <td>BACKGROUND: THE PUBLIC TRANSPORT ACCESS, AN IM...</td>\n",
       "      <td>THE BOULEVARD, LANGFORD LANE, KIDLINGTON, OXFO...</td>\n",
       "      <td>NaN</td>\n",
       "      <td>JIAPENGFF@HOTMAIL.COM FRANKXUFEI@163.COM</td>\n",
       "      <td>2020-07-09</td>\n",
       "      <td>...</td>\n",
       "      <td>13</td>\n",
       "      <td>PUBLIC, ENVIRONMENTAL \\&amp; OCCUPATIONAL HEALTH; ...</td>\n",
       "      <td>2019.0</td>\n",
       "      <td>JIA, P (CORRESPONDING AUTHOR), UNIV TWENTE, FA...</td>\n",
       "      <td>ISI</td>\n",
       "      <td>UNIV TWENTE;F (CORRESPONDING AUTHOR);NANJING M...</td>\n",
       "      <td>UNIV TWENTE</td>\n",
       "      <td>NaN</td>\n",
       "      <td>WANG Z, 2019, J TRANSP HEALTH</td>\n",
       "      <td>WANG Z, 2019, J TRANSP HEALTH</td>\n",
       "    </tr>\n",
       "    <tr>\n",
       "      <th>3</th>\n",
       "      <td>LI M;XUE H;JIA P;ZHAO Y;WANG Z;XU F;WANG Y</td>\n",
       "      <td>CHINA; EATING BEHAVIOR; OBESITY; OVERWEIGHT; P...</td>\n",
       "      <td>BODY-MASS INDEX; SOCIOECONOMIC-STATUS; ADOLESC...</td>\n",
       "      <td>WANG, YF (CORRESPONDING AUTHOR), BALL STATE UN...</td>\n",
       "      <td>[ANONYMOUS], 2006, CHINADAILY; AUSEMS M, 2003,...</td>\n",
       "      <td>BOTH THE OBESITY RATE AND POCKET MONEY ARE RIS...</td>\n",
       "      <td>525 B ST, STE 1900, SAN DIEGO, CA 92101-4495 USA</td>\n",
       "      <td>NaN</td>\n",
       "      <td>YWANG26@BSU.EDU</td>\n",
       "      <td>2020-07-09</td>\n",
       "      <td>...</td>\n",
       "      <td>100</td>\n",
       "      <td>PUBLIC, ENVIRONMENTAL \\&amp; OCCUPATIONAL HEALTH; ...</td>\n",
       "      <td>2017.0</td>\n",
       "      <td>WANG, YF (CORRESPONDING AUTHOR), BALL STATE UN...</td>\n",
       "      <td>ISI</td>\n",
       "      <td>BALL STATE UNIV;UNIV BUFFALO STATE UNIV NEW YO...</td>\n",
       "      <td>BALL STATE UNIV</td>\n",
       "      <td>NaN</td>\n",
       "      <td>LI M, 2017, PREV MED</td>\n",
       "      <td>LI M, 2017, PREV MED</td>\n",
       "    </tr>\n",
       "    <tr>\n",
       "      <th>4</th>\n",
       "      <td>YANG Z;GIESTER G</td>\n",
       "      <td>FERRINATRITE; HYDRATED SULFATE; CRYSTAL STRUCT...</td>\n",
       "      <td>CRYSTAL-STRUCTURE; SULFATE MINERALS; DEPOSIT; ...</td>\n",
       "      <td>GIESTER, G (CORRESPONDING AUTHOR), UNIV WIEN, ...</td>\n",
       "      <td>BRESE NE, 1991, ACTA CRYSTALLOGR B, V47, P192,...</td>\n",
       "      <td>THE STRUCTURE OF TRIGONAL FERRINATRITE, NA3FE(...</td>\n",
       "      <td>SACHSENPLATZ 4-6, PO BOX 89, A-1201 WIEN, AUSTRIA</td>\n",
       "      <td>NaN</td>\n",
       "      <td>GERALD.GIESTER@UNIVIE.AC.AT</td>\n",
       "      <td>2020-07-09</td>\n",
       "      <td>...</td>\n",
       "      <td>113</td>\n",
       "      <td>GEOCHEMISTRY \\&amp; GEOPHYSICS; MINERALOGY</td>\n",
       "      <td>2019.0</td>\n",
       "      <td>GIESTER, G (CORRESPONDING AUTHOR), UNIV WIEN, ...</td>\n",
       "      <td>ISI</td>\n",
       "      <td>UNIV WIEN;INST GEOL AND GEOPHYS;INST EARTH SCI...</td>\n",
       "      <td>UNIV WIEN</td>\n",
       "      <td>NaN</td>\n",
       "      <td>YANG Z, 2019, MINERAL PETROL</td>\n",
       "      <td>YANG Z, 2019, MINERAL PETROL</td>\n",
       "    </tr>\n",
       "  </tbody>\n",
       "</table>\n",
       "<p>5 rows × 39 columns</p>\n",
       "</div>"
      ],
      "text/plain": [
       "                                                  AU  \\\n",
       "0                 YU Q;WANG Y;GAO J;GAO S;FLEMMING B   \n",
       "1  BOYNARD A;CLERBAUX C;CLARISSE L;SAFIEDDINE S;P...   \n",
       "2       WANG Z;MA Y;QIN Z;YE Q;XU Z;HAN L;JIA P;XU F   \n",
       "3         LI M;XUE H;JIA P;ZHAO Y;WANG Z;XU F;WANG Y   \n",
       "4                                   YANG Z;GIESTER G   \n",
       "\n",
       "                                                  DE  \\\n",
       "0  ESTUARINE TURBIDITY MAXIMUM; WELL-MIXED ESTUAR...   \n",
       "1  WINTER AIR POLLUTION; IASI; SATELLITE REMOTE S...   \n",
       "2                                                NaN   \n",
       "3  CHINA; EATING BEHAVIOR; OBESITY; OVERWEIGHT; P...   \n",
       "4  FERRINATRITE; HYDRATED SULFATE; CRYSTAL STRUCT...   \n",
       "\n",
       "                                                  ID  \\\n",
       "0  SUSPENDED SEDIMENT TRANSPORT; YALU RIVER ESTUA...   \n",
       "1  SULFUR-DIOXIDE; RETRIEVAL; EMISSIONS; AMMONIA;...   \n",
       "2  BUILT ENVIRONMENT; NEIGHBORHOOD ENVIRONMENT; D...   \n",
       "3  BODY-MASS INDEX; SOCIOECONOMIC-STATUS; ADOLESC...   \n",
       "4  CRYSTAL-STRUCTURE; SULFATE MINERALS; DEPOSIT; ...   \n",
       "\n",
       "                                                  C1  \\\n",
       "0  YU, Q (CORRESPONDING AUTHOR), NANJING UNIV, MO...   \n",
       "1  BOYNARD, A (CORRESPONDING AUTHOR), UNIV VERSAI...   \n",
       "2  JIA, P (CORRESPONDING AUTHOR), UNIV TWENTE, FA...   \n",
       "3  WANG, YF (CORRESPONDING AUTHOR), BALL STATE UN...   \n",
       "4  GIESTER, G (CORRESPONDING AUTHOR), UNIV WIEN, ...   \n",
       "\n",
       "                                                  CR  \\\n",
       "0  ALLEN GP, 1980, SEDIMENT GEOL, V26, P69, DOI 1...   \n",
       "1  BAUDUIN S., 2013, 3 IASI C EUMETSAT CN; BERRIS...   \n",
       "2  [ANONYMOUS], 2016, NAT HLTH HYG C AUG 2; BENNE...   \n",
       "3  [ANONYMOUS], 2006, CHINADAILY; AUSEMS M, 2003,...   \n",
       "4  BRESE NE, 1991, ACTA CRYSTALLOGR B, V47, P192,...   \n",
       "\n",
       "                                                  AB  \\\n",
       "0  TRADITIONALLY, VERTICAL CIRCULATION (INDUCED B...   \n",
       "1  IN THIS PAPER WE INVESTIGATE A SEVERE POLLUTIO...   \n",
       "2  BACKGROUND: THE PUBLIC TRANSPORT ACCESS, AN IM...   \n",
       "3  BOTH THE OBESITY RATE AND POCKET MONEY ARE RIS...   \n",
       "4  THE STRUCTURE OF TRIGONAL FERRINATRITE, NA3FE(...   \n",
       "\n",
       "                                                  PA   AR  \\\n",
       "0      2000 FLORIDA AVE NW, WASHINGTON, DC 20009 USA  NaN   \n",
       "1      2000 FLORIDA AVE NW, WASHINGTON, DC 20009 USA  NaN   \n",
       "2  THE BOULEVARD, LANGFORD LANE, KIDLINGTON, OXFO...  NaN   \n",
       "3   525 B ST, STE 1900, SAN DIEGO, CA 92101-4495 USA  NaN   \n",
       "4  SACHSENPLATZ 4-6, PO BOX 89, A-1201 WIEN, AUSTRIA  NaN   \n",
       "\n",
       "                                         EM          da  ...   VL  \\\n",
       "0                      QIANYU.NJU@GMAIL.COM  2020-07-09  ...  119   \n",
       "1               ANNE.BOYNARD@LATMOS.IPSL.FR  2020-07-09  ...   41   \n",
       "2  JIAPENGFF@HOTMAIL.COM FRANKXUFEI@163.COM  2020-07-09  ...   13   \n",
       "3                           YWANG26@BSU.EDU  2020-07-09  ...  100   \n",
       "4               GERALD.GIESTER@UNIVIE.AC.AT  2020-07-09  ...  113   \n",
       "\n",
       "                          web.of.science.categories.      PY  \\\n",
       "0                                       OCEANOGRAPHY  2014.0   \n",
       "1                     GEOSCIENCES, MULTIDISCIPLINARY  2014.0   \n",
       "2  PUBLIC, ENVIRONMENTAL \\& OCCUPATIONAL HEALTH; ...  2019.0   \n",
       "3  PUBLIC, ENVIRONMENTAL \\& OCCUPATIONAL HEALTH; ...  2017.0   \n",
       "4             GEOCHEMISTRY \\& GEOPHYSICS; MINERALOGY  2019.0   \n",
       "\n",
       "                                                  RP   DB  \\\n",
       "0  YU, Q (CORRESPONDING AUTHOR), NANJING UNIV, MO...  ISI   \n",
       "1  BOYNARD, A (CORRESPONDING AUTHOR), UNIV VERSAI...  ISI   \n",
       "2  JIA, P (CORRESPONDING AUTHOR), UNIV TWENTE, FA...  ISI   \n",
       "3  WANG, YF (CORRESPONDING AUTHOR), BALL STATE UN...  ISI   \n",
       "4  GIESTER, G (CORRESPONDING AUTHOR), UNIV WIEN, ...  ISI   \n",
       "\n",
       "                                               AU_UN  \\\n",
       "0  NANJING UNIV;NANJING UNIV;DELFT UNIV TECHNOL;S...   \n",
       "1  UNIV VERSAILLES ST QUENTIN;UNIV VERSAILLES ST ...   \n",
       "2  UNIV TWENTE;F (CORRESPONDING AUTHOR);NANJING M...   \n",
       "3  BALL STATE UNIV;UNIV BUFFALO STATE UNIV NEW YO...   \n",
       "4  UNIV WIEN;INST GEOL AND GEOPHYS;INST EARTH SCI...   \n",
       "\n",
       "                       AU1_UN AU_UN_NR                            SR_FULL  \\\n",
       "0                NANJING UNIV      NaN  YU Q, 2014, J GEOPHYS RES -OCEANS   \n",
       "1  UNIV VERSAILLES ST QUENTIN      NaN  BOYNARD A, 2014, GEOPHYS RES LETT   \n",
       "2                 UNIV TWENTE      NaN      WANG Z, 2019, J TRANSP HEALTH   \n",
       "3             BALL STATE UNIV      NaN               LI M, 2017, PREV MED   \n",
       "4                   UNIV WIEN      NaN       YANG Z, 2019, MINERAL PETROL   \n",
       "\n",
       "                                  SR  \n",
       "0  YU Q, 2014, J GEOPHYS RES -OCEANS  \n",
       "1  BOYNARD A, 2014, GEOPHYS RES LETT  \n",
       "2      WANG Z, 2019, J TRANSP HEALTH  \n",
       "3               LI M, 2017, PREV MED  \n",
       "4       YANG Z, 2019, MINERAL PETROL  \n",
       "\n",
       "[5 rows x 39 columns]"
      ]
     },
     "execution_count": 2,
     "metadata": {},
     "output_type": "execute_result"
    }
   ],
   "source": [
    "knoc_df = pd.read_csv(\"../data/knoc_AB.csv\")\n",
    "knoc_df.head()"
   ]
  },
  {
   "cell_type": "code",
   "execution_count": 3,
   "metadata": {},
   "outputs": [
    {
     "data": {
      "text/plain": [
       "Index(['AU', 'DE', 'ID', 'C1', 'CR', 'AB', 'PA', 'AR', 'EM', 'da', 'GA', 'DI',\n",
       "       'BE', 'FU', 'FX', 'SN', 'JI', 'SO', 'LA', 'NR', 'orcid.numbers', 'PU',\n",
       "       'SC', 'researcherid.numbers', 'SE', 'TC', 'TI', 'DT', 'UT', 'VL',\n",
       "       'web.of.science.categories.', 'PY', 'RP', 'DB', 'AU_UN', 'AU1_UN',\n",
       "       'AU_UN_NR', 'SR_FULL', 'SR'],\n",
       "      dtype='object')"
      ]
     },
     "execution_count": 3,
     "metadata": {},
     "output_type": "execute_result"
    }
   ],
   "source": [
    "knoc_df.columns"
   ]
  },
  {
   "cell_type": "code",
   "execution_count": 4,
   "metadata": {},
   "outputs": [
    {
     "data": {
      "text/plain": [
       "(32658, 39)"
      ]
     },
     "execution_count": 4,
     "metadata": {},
     "output_type": "execute_result"
    }
   ],
   "source": [
    "knoc_df.shape"
   ]
  },
  {
   "cell_type": "code",
   "execution_count": 5,
   "metadata": {},
   "outputs": [],
   "source": [
    "knoc_df = knoc_df.fillna(\"nan\")"
   ]
  },
  {
   "cell_type": "code",
   "execution_count": 6,
   "metadata": {},
   "outputs": [],
   "source": [
    "# unpack all the individual research areas\n",
    "## res_areas = []\n",
    "## nested_res_areas = [i.split(\";\") for i in knoc_df['web.of.science.categories.']]\n",
    "## while nested_res_areas:\n",
    "##     res_areas.extend(nested_res_areas.pop(0))\n",
    "## res_areas = [i.strip().replace(\"(|)\", \"\") for i in res_areas]\n",
    "## res_areas = set(res_areas)\n",
    "## list(enumerate(res_areas))\n"
   ]
  },
  {
   "cell_type": "code",
   "execution_count": 7,
   "metadata": {},
   "outputs": [
    {
     "data": {
      "text/plain": [
       "'SOCIAL SCIENCES, MATHEMATICAL METHODS'"
      ]
     },
     "execution_count": 7,
     "metadata": {},
     "output_type": "execute_result"
    }
   ],
   "source": [
    "## pickle.dump(list(res_areas), open(\"../data/res_areas.p\", \"wb\"))\n",
    "res_areas = pickle.load(open(\"../data/res_areas.p\", \"rb\"))\n",
    "res_areas[22]\n"
   ]
  },
  {
   "cell_type": "code",
   "execution_count": 8,
   "metadata": {},
   "outputs": [
    {
     "data": {
      "text/plain": [
       "['SOCIAL SCIENCES, MATHEMATICAL METHODS',\n",
       " 'POLITICAL SCIENCE',\n",
       " 'HUMANITIES, MULTIDISCIPLINARY',\n",
       " 'URBAN STUDIES',\n",
       " 'SOCIAL WORK',\n",
       " 'CULTURAL STUDIES',\n",
       " 'SOCIOLOGY',\n",
       " 'PUBLIC ADMINISTRATION',\n",
       " 'INTERNATIONAL RELATIONS',\n",
       " 'AREA STUDIES',\n",
       " 'SOCIAL ISSUES',\n",
       " 'ASIAN STUDIES',\n",
       " 'ECONOMICS',\n",
       " \"WOMEN'S STUDIES\",\n",
       " 'SOCIAL SCIENCES, INTERDISCIPLINARY']"
      ]
     },
     "execution_count": 8,
     "metadata": {},
     "output_type": "execute_result"
    }
   ],
   "source": [
    "selected_ra_indexes = [22, 47, 74, 91, 93, 102, 103, 240, 116, 118, 135, 152, 165, 167, 187]\n",
    "selected_res_areas =[res_areas[i] for i in selected_ra_indexes]\n",
    "selected_res_areas"
   ]
  },
  {
   "cell_type": "code",
   "execution_count": 9,
   "metadata": {},
   "outputs": [
    {
     "data": {
      "text/plain": [
       "3040"
      ]
     },
     "execution_count": 9,
     "metadata": {},
     "output_type": "execute_result"
    }
   ],
   "source": [
    "ra_matched_pubs = [i in selected_res_areas for i in knoc_df[\"web.of.science.categories.\"]]\n",
    "sum(ra_matched_pubs)\n",
    "\n",
    "# 3040 publications"
   ]
  },
  {
   "cell_type": "code",
   "execution_count": 10,
   "metadata": {},
   "outputs": [],
   "source": [
    "ra_matched_pub_indexes = [i for i,x in enumerate(ra_matched_pubs) if x == True ]"
   ]
  },
  {
   "cell_type": "code",
   "execution_count": 11,
   "metadata": {},
   "outputs": [
    {
     "data": {
      "text/plain": [
       "Counter({'URBAN STUDIES': 62,\n",
       "         'POLITICAL SCIENCE': 293,\n",
       "         'ECONOMICS': 1054,\n",
       "         'AREA STUDIES': 608,\n",
       "         'CULTURAL STUDIES': 28,\n",
       "         'HUMANITIES, MULTIDISCIPLINARY': 118,\n",
       "         'ASIAN STUDIES': 223,\n",
       "         'INTERNATIONAL RELATIONS': 355,\n",
       "         'SOCIAL SCIENCES, INTERDISCIPLINARY': 148,\n",
       "         'SOCIAL ISSUES': 7,\n",
       "         'SOCIAL WORK': 17,\n",
       "         'SOCIOLOGY': 74,\n",
       "         'PUBLIC ADMINISTRATION': 31,\n",
       "         \"WOMEN'S STUDIES\": 19,\n",
       "         'SOCIAL SCIENCES, MATHEMATICAL METHODS': 3})"
      ]
     },
     "execution_count": 11,
     "metadata": {},
     "output_type": "execute_result"
    }
   ],
   "source": [
    "import collections\n",
    "collections.Counter([knoc_df[\"web.of.science.categories.\"][i] for i in ra_matched_pub_indexes])"
   ]
  },
  {
   "cell_type": "markdown",
   "metadata": {},
   "source": [
    "# 2. Prepare the abstracts and keywords from the selected research areas"
   ]
  },
  {
   "cell_type": "code",
   "execution_count": 12,
   "metadata": {},
   "outputs": [
    {
     "data": {
      "text/plain": [
       "(3040, 40)"
      ]
     },
     "execution_count": 12,
     "metadata": {},
     "output_type": "execute_result"
    }
   ],
   "source": [
    "# new df that only includes the selected pubs\n",
    "sel_knoc_df = knoc_df.iloc[ra_matched_pub_indexes,:]\n",
    "sel_knoc_df = sel_knoc_df.reset_index()\n",
    "sel_knoc_df.shape"
   ]
  },
  {
   "cell_type": "code",
   "execution_count": 13,
   "metadata": {},
   "outputs": [
    {
     "data": {
      "text/plain": [
       "\"THIS ARTICLE STUDIES THE IDEOLOGICAL REACTIONS OF COMMUNIST REGIMES TO THE ADVENT OF A POST-COMMUNIST WORLD. IT EXAMINES TWO CASES OF REFORMED COMMUNIST REGIMES (CHINA AND VIETNAM) WITH TWO RELATIVELY UNREFORMED CASES (NORTH KOREA AND CUBA) TO UNDERSTAND DIFFERENT LEGITIMATION STRATEGIES EMPLOYED DURING AND AFTER THE DOWNFALL OF THE SOVIET UNION. THEORETICALLY, THE ARTICLE COMPARES TWO IDEAL-TYPE APPROACHES TO IDEOLOGY IN AUTOCRATIC REGIMES. THE FIRST APPROACH EMPHASIZES SEMANTIC `FREEZING' OVER TIME. THE CONSISTENCY AND COHERENCE OF IDEOLOGY IS UNDERLINED. THE SECOND APPROACH ARGUES THAT THE SUCCESS OF AN IDEOLOGY LIES IN ITS ABILITY TO BE A DYNAMIC, ADAPTIVE FORCE THAT CAN REACT WITH CHANGING CIRCUMSTANCES. FOUR PARAMETERS HELP TO DISTINGUISH THE FREEZE-FRAME END FROM THE ADAPTATION POLE: (1) THE AUTONOMY OVER SEMANTIC CHANGES, (2) THE TIMING, (3) THE VELOCITY AND (4) THE DISTANCE THAT AN IDEOLOGY MOVES. USING QUALITATIVE CASE-BASED ANALYSIS THAT IS ENRICHED WITH QUANTITATIVE TEXT ANALYSIS OF COMMUNIST PARTY DOCUMENTS, THIS ARTICLE COMPARES THESE CONTENDING CONCEPTIONS OF IDEOLOGY WITH EACH OTHER IN THE FOUR CASES. SHARING SIMILAR STARTING CONDITIONS IN THE 1970S, THE ARTICLE SHOWS HOW CHINA AND VIETNAM HARNESSED A FLEXIBLE LEGITIMATION STRATEGY WHILE NORTH KOREA AND CUBA ADOPTED A COMPARATIVELY RIGID LEGITIMATION APPROACH.AUTHORITARIANISM; COMMUNISM; LEGITIMATION; IDEOLOGY; CHINA; NORTH KOREA;; CUBA; VIETNAMCHINA; LEGITIMACY; VIETNAM; CUBA; END\""
      ]
     },
     "execution_count": 13,
     "metadata": {},
     "output_type": "execute_result"
    }
   ],
   "source": [
    "# Unify the abstrats with the keywords in another column\n",
    "unified_abs_key = [sel_knoc_df[\"AB\"][i] + sel_knoc_df[\"DE\"][i] + sel_knoc_df[\"ID\"][i] for i in range(sel_knoc_df.shape[0])]\n",
    "unified_abs_key[1]"
   ]
  },
  {
   "cell_type": "code",
   "execution_count": null,
   "metadata": {},
   "outputs": [],
   "source": []
  },
  {
   "cell_type": "code",
   "execution_count": null,
   "metadata": {},
   "outputs": [],
   "source": []
  }
 ],
 "metadata": {
  "kernelspec": {
   "display_name": "topic_modelling",
   "language": "python",
   "name": "topic_modelling"
  },
  "language_info": {
   "codemirror_mode": {
    "name": "ipython",
    "version": 3
   },
   "file_extension": ".py",
   "mimetype": "text/x-python",
   "name": "python",
   "nbconvert_exporter": "python",
   "pygments_lexer": "ipython3",
   "version": "3.8.5"
  }
 },
 "nbformat": 4,
 "nbformat_minor": 4
}
